{
 "cells": [
  {
   "cell_type": "markdown",
   "id": "a038e517",
   "metadata": {},
   "source": [
    "# **Amazon Lookout for Equipment** - SDK Tutorial"
   ]
  },
  {
   "cell_type": "markdown",
   "id": "a5e469c6",
   "metadata": {},
   "source": [
    "#### Temporary cell to be executed until module is published on PyPI:"
   ]
  },
  {
   "cell_type": "code",
   "execution_count": null,
   "id": "dfcb79ec",
   "metadata": {},
   "outputs": [],
   "source": [
    "!pip uninstall lookoutequipment --yes"
   ]
  },
  {
   "cell_type": "code",
   "execution_count": null,
   "id": "b2f7530a",
   "metadata": {},
   "outputs": [],
   "source": [
    "!pip install --quiet --use-feature=in-tree-build .."
   ]
  },
  {
   "cell_type": "markdown",
   "id": "527071cb",
   "metadata": {},
   "source": [
    "## Initialization\n",
    "---"
   ]
  },
  {
   "cell_type": "markdown",
   "id": "6a6b4ace",
   "metadata": {},
   "source": [
    "### Imports"
   ]
  },
  {
   "cell_type": "code",
   "execution_count": null,
   "id": "ccdd5762",
   "metadata": {},
   "outputs": [],
   "source": [
    "import boto3\n",
    "import matplotlib.pyplot as plt\n",
    "import matplotlib.ticker as mtick\n",
    "import numpy as np\n",
    "import os\n",
    "import pandas as pd\n",
    "import sagemaker\n",
    "import sys\n",
    "import time\n",
    "\n",
    "from lookoutequipment import plot, dataset, model, evaluation, scheduler"
   ]
  },
  {
   "cell_type": "markdown",
   "id": "ea73372d",
   "metadata": {},
   "source": [
    "### Parameters"
   ]
  },
  {
   "cell_type": "markdown",
   "id": "c3016e77",
   "metadata": {},
   "source": [
    "<span style=\"color: white; background-color: OrangeRed; padding: 0px 15px 0px 15px; border-radius: 20px;\">**Note:** Update the value of the **bucket** and **prefix** variables below **before** running the following cell</span>\n",
    "\n",
    "Make sure the IAM role used to run your notebook has access to the chosen bucket."
   ]
  },
  {
   "cell_type": "code",
   "execution_count": null,
   "id": "6ab591f9",
   "metadata": {},
   "outputs": [],
   "source": [
    "bucket   = '<<YOUR-BUCKET>>'\n",
    "prefix   = '<<YOUR_PREFIX>>/' # Keep the trailing slash at the end\n",
    "\n",
    "plt.style.use('Solarize_Light2')\n",
    "plt.rcParams['lines.linewidth'] = 0.5"
   ]
  },
  {
   "cell_type": "markdown",
   "id": "4ff99a4f",
   "metadata": {},
   "source": [
    "### Dataset preparation"
   ]
  },
  {
   "cell_type": "code",
   "execution_count": null,
   "id": "78f9f5c0",
   "metadata": {},
   "outputs": [],
   "source": [
    "data = dataset.load_dataset(dataset_name='expander', target_dir='expander-data')\n",
    "dataset.upload_dataset('expander-data', bucket, prefix)"
   ]
  },
  {
   "cell_type": "markdown",
   "id": "e5de4fb7",
   "metadata": {},
   "source": [
    "## Role definition\n",
    "--- \n",
    "Before you can run this notebook (for instance, from a SageMaker environment), you will need:\n",
    "* To allow SageMaker to run Lookout for Equipment API calls\n",
    "* To allow Amazon Lookout for Equipment to access your training data (located in the bucket and prefix defined in the previous cell)\n",
    "\n",
    "### Authorizing SageMaker to make Lookout for Equipment calls\n",
    "You need to ensure that this notebook instance has an IAM role which allows it to call the Amazon Lookout for Equipment APIs:\n",
    "\n",
    "1. In your IAM console, look for the SageMaker execution role endorsed by your notebook instance (a role with a name like `AmazonSageMaker-ExecutionRole-yyyymmddTHHMMSS`)\n",
    "2. On the `Permissions` tab, click on `Attach policies`\n",
    "3. In the Filter policies search field, look for `AmazonLookoutEquipmentFullAccess`, tick the checkbox next to it and click on `Attach policy`\n",
    "\n",
    "Your notebook has now the ability to call any Lookout for Equipment APIs.\n",
    "\n",
    "### Give access to your S3 data to Lookout for Equipment\n",
    "When Lookout for Equipment will run, it will try to access your S3 data at several occasions:\n",
    "\n",
    "* When ingesting the training data\n",
    "* At training time when accessing the label data\n",
    "* At inference time to run the input data and output the results\n",
    "\n",
    "To enable these access, you need to create a role that Lookout for Equipment can endorse by following these steps:\n",
    "\n",
    "1. Log in again to your [**IAM console**](https://console.aws.amazon.com/iamv2/home)\n",
    "2. On the left menu bar click on `Roles` and then on the `Create role` button located at the top right\n",
    "3. On the create role screen, selected `AWS Service` as the type of trusted entity\n",
    "4. In the following section (`Choose a use case`), locate `SageMaker` and click on the service name. Not all AWS services appear in these ready to configure use cases and this is why we are using SageMaker as the baseline for our new role. In the next steps, we will adjust the role created to configure it specifically for Amazon Lookout for Equipment.\n",
    "5. Click on the `Next` button until you reach the last step (`Review`): give a name and a description to your role (for instance `LookoutEquipmentS3AccessRole`)\n",
    "6. Click on `Create role`: your role is created and you are brought back to the list of existing role\n",
    "7. In the search bar, search for the role you just created and choose it from the returned result to see a summary of your role\n",
    "8. At the top of your screen, you will see a role ARN field: **copy this ARN and paste it in the following cell, replacing the `<<YOUR_ROLE_ARN>>` string below**\n",
    "9. Click on the cross at the far right of the `AmazonSageMakerFullAccess` managed policy to remove this permission for this role as we don't need it.\n",
    "10. Click on `Add inline policy` and then on the `JSON` tab. Then fill in the policy with the following document:"
   ]
  },
  {
   "cell_type": "code",
   "execution_count": null,
   "id": "ac5f195e",
   "metadata": {},
   "outputs": [],
   "source": [
    "print((\n",
    "    '{\\n'\n",
    "    '    \"Version\": \"2012-10-17\",\\n'\n",
    "    '    \"Statement\": [\\n'\n",
    "    '        {\\n'\n",
    "    '            \"Effect\": \"Allow\",\\n'\n",
    "    '            \"Action\": [\\n'\n",
    "    '                \"s3:ListBucket\",\\n'\n",
    "    '                \"s3:GetObject\",\\n'\n",
    "    '                \"s3:PutObject\"\\n'\n",
    "    '            ],\\n'\n",
    "    '            \"Resource\": [\\n'\n",
    "    f'                \"arn:aws:s3:::{bucket}/*\",\\n'\n",
    "    f'                \"arn:aws:s3:::{bucket}\"\\n'\n",
    "    '            ]\\n'\n",
    "    '        }\\n'\n",
    "    '    ]\\n'\n",
    "    '}'\n",
    "))"
   ]
  },
  {
   "cell_type": "markdown",
   "id": "fc0e225b",
   "metadata": {},
   "source": [
    "11. Give a name to your policy (for instance: `LookoutEquipmentS3AccessPolicy`) and click on `Create policy`.\n",
    "12. On the `Trust relationships` tab, choose `Edit trust relationship`.\n",
    "13. Under policy document, replace the whole policy by the following document and click on the `Update Trust Policy` button on the bottom right:\n",
    "\n",
    "```json\n",
    "{\n",
    "  \"Version\": \"2012-10-17\",\n",
    "  \"Statement\": [\n",
    "    {\n",
    "      \"Sid\": \"\",\n",
    "      \"Effect\": \"Allow\",\n",
    "      \"Principal\": {\n",
    "        \"Service\": \"lookoutequipment.amazonaws.com\"\n",
    "      },\n",
    "      \"Action\": \"sts:AssumeRole\"\n",
    "    }\n",
    "  ]\n",
    "}\n",
    "```\n",
    "\n",
    "And you're done! When Amazon Lookout for Equipment will try to read the datasets you just uploaded in S3, it will request permissions from IAM by using the role we just created:\n",
    "1. The **trust policy** allows Lookout for Equipment to assume this role.\n",
    "2. The **inline policy** specifies that Lookout for Equipment is authorized to list and access the objects in the S3 bucket you created earlier.\n",
    "\n",
    "<span style=\"color: white; background-color: OrangeRed; padding: 0px 15px 0px 15px; border-radius: 20px;\">Don't forget to update the **role_arn** variable below with the ARN of the role you just create **before** running the following cell</span>"
   ]
  },
  {
   "cell_type": "code",
   "execution_count": null,
   "id": "54a47c95",
   "metadata": {},
   "outputs": [],
   "source": [
    "role_arn = '<<YOUR_ROLE_ARN>>'"
   ]
  },
  {
   "cell_type": "markdown",
   "id": "05cb679e",
   "metadata": {},
   "source": [
    "## Lookout for Equipment end-to-end walkthrough\n",
    "---"
   ]
  },
  {
   "cell_type": "markdown",
   "id": "d0b40447",
   "metadata": {},
   "source": [
    "### Dataset creation and data ingestion"
   ]
  },
  {
   "cell_type": "code",
   "execution_count": null,
   "id": "635a8529",
   "metadata": {},
   "outputs": [],
   "source": [
    "lookout_dataset = dataset.LookoutEquipmentDataset(\n",
    "    dataset_name='my_dataset',\n",
    "    access_role_arn=role_arn,\n",
    "    component_root_dir=f's3://{bucket}/{prefix}training-data'\n",
    ")\n",
    "lookout_dataset.create()\n",
    "response = lookout_dataset.ingest_data(bucket, prefix + 'training-data/', wait=True)"
   ]
  },
  {
   "cell_type": "markdown",
   "id": "e94d18a2",
   "metadata": {},
   "source": [
    "### Building an anomaly detection model\n",
    "#### Model training"
   ]
  },
  {
   "cell_type": "code",
   "execution_count": null,
   "id": "18ec9f3d",
   "metadata": {},
   "outputs": [],
   "source": [
    "lookout_model = model.LookoutEquipmentModel(model_name='my_model', \n",
    "                                            dataset_name='my_dataset')\n",
    "lookout_model.set_time_periods(data['evaluation_start'],\n",
    "                               data['evaluation_end'],\n",
    "                               data['training_start'],\n",
    "                               data['training_end'])\n",
    "lookout_model.set_label_data(bucket=bucket, \n",
    "                             prefix=prefix + 'label-data/',\n",
    "                             access_role_arn=role_arn)\n",
    "lookout_model.set_target_sampling_rate(sampling_rate='PT30M')\n",
    "\n",
    "response = lookout_model.train()\n",
    "lookout_model.poll_model_training(sleep_time=300)"
   ]
  },
  {
   "cell_type": "markdown",
   "id": "12d13269",
   "metadata": {},
   "source": [
    "#### Trained model evaluation overview"
   ]
  },
  {
   "cell_type": "code",
   "execution_count": null,
   "id": "fae38437",
   "metadata": {},
   "outputs": [],
   "source": [
    "LookoutDiagnostics = evaluation.LookoutEquipmentAnalysis(model_name='my_model', tags_df=data['data'])\n",
    "predicted_ranges = LookoutDiagnostics.get_predictions()\n",
    "labels_fname = os.path.join('expander-data', 'labels.csv')\n",
    "labeled_range = LookoutDiagnostics.get_labels(labels_fname)"
   ]
  },
  {
   "cell_type": "code",
   "execution_count": null,
   "id": "c984e357",
   "metadata": {},
   "outputs": [],
   "source": [
    "TSViz = plot.TimeSeriesVisualization(timeseries_df=data['data'], data_format='tabular')\n",
    "TSViz.add_signal(['signal-028'])\n",
    "TSViz.add_labels(labeled_range)\n",
    "TSViz.add_predictions([predicted_ranges])\n",
    "TSViz.add_train_test_split(data['evaluation_start'])\n",
    "TSViz.add_rolling_average(60*24)\n",
    "TSViz.legend_format = {'loc': 'upper left', 'framealpha': 0.4, 'ncol': 3}\n",
    "fig, axis = TSViz.plot()"
   ]
  },
  {
   "cell_type": "markdown",
   "id": "f0c4d01d",
   "metadata": {},
   "source": [
    "### Scheduling inferences\n",
    "#### Preparing inferencing data"
   ]
  },
  {
   "cell_type": "code",
   "execution_count": null,
   "id": "f19b1c73",
   "metadata": {},
   "outputs": [],
   "source": [
    "dataset.prepare_inference_data(\n",
    "    root_dir='expander-data',\n",
    "    sample_data_dict=data,\n",
    "    bucket=bucket,\n",
    "    prefix=prefix,\n",
    "    start_date='2015-11-21 04:00:00',\n",
    "    num_sequences=12\n",
    ")"
   ]
  },
  {
   "cell_type": "markdown",
   "id": "c4cdb2e7",
   "metadata": {},
   "source": [
    "#### Configuring and starting a scheduler"
   ]
  },
  {
   "cell_type": "code",
   "execution_count": null,
   "id": "323ff852",
   "metadata": {},
   "outputs": [],
   "source": [
    "lookout_scheduler = scheduler.LookoutEquipmentScheduler(\n",
    "    scheduler_name='my_scheduler',\n",
    "    model_name='my_model'\n",
    ")\n",
    "\n",
    "scheduler_params = {\n",
    "    'input_bucket': bucket,\n",
    "    'input_prefix': prefix + 'inference-data/input/',\n",
    "    'output_bucket': bucket,\n",
    "    'output_prefix': prefix + 'inference-data/output/',\n",
    "    'role_arn': role_arn,\n",
    "    'upload_frequency': 'PT30M',\n",
    "    'delay_offset': None,\n",
    "    'timezone_offset': '+00:00',\n",
    "    'component_delimiter': '_',\n",
    "    'timestamp_format': 'yyyyMMddHHmmss'\n",
    "}\n",
    "\n",
    "lookout_scheduler.set_parameters(**scheduler_params)\n",
    "response = lookout_scheduler.create()"
   ]
  },
  {
   "cell_type": "markdown",
   "id": "72dcc685",
   "metadata": {},
   "source": [
    "Let's now wait for the scheduler to generate the first execution:"
   ]
  },
  {
   "cell_type": "code",
   "execution_count": null,
   "id": "32de391c",
   "metadata": {},
   "outputs": [],
   "source": [
    "execution_summaries = []\n",
    "\n",
    "while len(execution_summaries) == 0:\n",
    "    execution_summaries = lookout_scheduler.list_inference_executions()\n",
    "    \n",
    "    if len(execution_summaries) == 0:\n",
    "        print('WAITING FOR THE FIRST INFERENCE EXECUTION')\n",
    "        time.sleep(60)\n",
    "        \n",
    "    else:\n",
    "        print('FIRST INFERENCE EXECUTED\\n')\n",
    "        break\n",
    "            \n",
    "execution_summaries"
   ]
  },
  {
   "cell_type": "markdown",
   "id": "62bb21e9",
   "metadata": {},
   "source": [
    "#### Post-processing the inference results\n",
    "Make sure you have some inference results before you run the next cell:"
   ]
  },
  {
   "cell_type": "code",
   "execution_count": null,
   "id": "eace9e40",
   "metadata": {},
   "outputs": [],
   "source": [
    "results_df = lookout_scheduler.get_predictions()\n",
    "results_df.head()"
   ]
  },
  {
   "cell_type": "code",
   "execution_count": null,
   "id": "aa227bc9",
   "metadata": {},
   "outputs": [],
   "source": [
    "event_details = pd.DataFrame(results_df.iloc[0, 1:]).reset_index()\n",
    "fig, ax = plot.plot_event_barh(event_details, fig_width=12)"
   ]
  },
  {
   "cell_type": "markdown",
   "id": "587724ba",
   "metadata": {},
   "source": [
    "## Cleanup\n",
    "---\n",
    "The next cell deletes all the artifacts created by this notebook:"
   ]
  },
  {
   "cell_type": "code",
   "execution_count": null,
   "id": "a1352c3e",
   "metadata": {},
   "outputs": [],
   "source": [
    "dataset.delete_dataset(dataset_name='my_dataset', delete_children=True, verbose=True)"
   ]
  }
 ],
 "metadata": {
  "kernelspec": {
   "display_name": "conda_python3",
   "language": "python",
   "name": "conda_python3"
  },
  "language_info": {
   "codemirror_mode": {
    "name": "ipython",
    "version": 3
   },
   "file_extension": ".py",
   "mimetype": "text/x-python",
   "name": "python",
   "nbconvert_exporter": "python",
   "pygments_lexer": "ipython3",
   "version": "3.6.13"
  }
 },
 "nbformat": 4,
 "nbformat_minor": 5
}
